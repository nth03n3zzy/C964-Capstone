{
 "cells": [
  {
   "cell_type": "code",
   "execution_count": 3,
   "id": "00e598cd",
   "metadata": {},
   "outputs": [
    {
     "name": "stdout",
     "output_type": "stream",
     "text": [
      "Welcome to the Western Governors Bank loan tool. \n",
      "Please answer the following questions and we will determine whether or not you will get pre-approved for a loan with 97% accuracy.\n",
      "Please enter the amount you wish to finance with us.\n",
      "Enter loan amount: 1000\n",
      "Wow how exciting! Financing an amount of  1000\n",
      "What is your annual income?: 10\n",
      "what is the desired term of the loan in months: 101\n",
      "What is your most recent FICO credit score rating: 1010\n",
      "what is the value of your residential assets?: 1111\n",
      "What is the value of your commercial assets?: 1111\n",
      "What is the value of your luxury assets?: 1111\n",
      "What is the value of your bank assets?: 1111\n",
      "Loan Status: Rejected\n",
      "If you would like to perform another query press 1: \n",
      "If you would like to exit press 2: 2\n",
      "We look forward to your buiness! \n",
      "Exiting the program. Goodbye!\n"
     ]
    }
   ],
   "source": [
    "import numpy as np\n",
    "import pandas as pd\n",
    "from sklearn.metrics import classification_report, roc_auc_score\n",
    "from sklearn.model_selection import train_test_split\n",
    "from sklearn.ensemble import RandomForestClassifier\n",
    "import warnings\n",
    "import matplotlib.pyplot as plt\n",
    "import seaborn as sns\n",
    "from ML_model import predict_loan_approval\n",
    "from command_line import command_line\n",
    "\n",
    "print(\"Welcome to the Western Governors Bank loan tool. \\nPlease answer the following questions \"\n",
    "      \"and we will determine whether or not you will get pre-approved for a loan with 97% accuracy.\")\n",
    "print(\"Please enter the amount you wish to finance with us.\")\n",
    "\n",
    "while True:\n",
    "    result = command_line()\n",
    "\n",
    "    # Unpack the user data tuple and pass individual arguments to predict_loan_approval function\n",
    "    annual_income, loan_amount, loan_term, credit_score, residential_assets, commercial_assets, luxury_assets, bank_assets = result\n",
    "    loan_status = predict_loan_approval(annual_income, loan_amount, loan_term, credit_score, residential_assets,\n",
    "                                        commercial_assets, luxury_assets, bank_assets)\n",
    "\n",
    "    print(\"Loan Status:\", loan_status)\n",
    "\n",
    "    desire = input(\"If you would like to perform another query press 1: \"\n",
    "                   \"\\nIf you would like to exit press 2: \")\n",
    "\n",
    "    if desire == \"2\":\n",
    "        print(\"We look forward to your buiness! \\nExiting the program. Goodbye!\")\n",
    "        break\n",
    "    elif desire != \"1\":\n",
    "        print(\"Invalid input. Please enter either '1' to perform another query or '2' to exit.\")\n"
   ]
  }
 ],
 "metadata": {
  "kernelspec": {
   "display_name": "Python 3 (ipykernel)",
   "language": "python",
   "name": "python3"
  },
  "language_info": {
   "codemirror_mode": {
    "name": "ipython",
    "version": 3
   },
   "file_extension": ".py",
   "mimetype": "text/x-python",
   "name": "python",
   "nbconvert_exporter": "python",
   "pygments_lexer": "ipython3",
   "version": "3.11.3"
  }
 },
 "nbformat": 4,
 "nbformat_minor": 5
}
